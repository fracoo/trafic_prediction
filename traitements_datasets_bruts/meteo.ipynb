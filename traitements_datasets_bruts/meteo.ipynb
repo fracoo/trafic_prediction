{
 "cells": [
  {
   "cell_type": "markdown",
   "id": "0e991189",
   "metadata": {},
   "source": [
    "<h2>Objectifs</h2>\n",
    "\n",
    "L'objectif de ce code est d'extrire les données météorologiqus d'intérêt (vent et précipitation en heure par heure à Paris). \n",
    "Les données proviennent de https://meteo.data.gouv.fr/datasets/6569b4473bedf2e7abad3b72"
   ]
  },
  {
   "cell_type": "code",
   "execution_count": 4,
   "id": "ae5a11ff",
   "metadata": {},
   "outputs": [],
   "source": [
    "import pandas as pd\n",
    "\n",
    "df = pd.read_csv('../dataset_brut/H_75_latest-2024-2025.csv', sep=\";\", encoding='latin-1')\n",
    "\n",
    "df = df[(df['NUM_POSTE'] == 75114001)].reset_index(drop=True)\n",
    "\n",
    "df = df.loc[:,['NOM_USUEL','AAAAMMJJHH','Pr\\x8ecipitation en 1h','Dur\\x8ee precipitation (en min)','Force du vent moyenne)']]\n",
    "\n",
    "df = df.rename(columns={'Pr\\x8ecipitation en 1h': 'precipitations heure', \n",
    "                        'Dur\\x8ee precipitation (en min)' : 'duree prec (en min)',\n",
    "                        'Force du vent moyenne)' : 'force moyenne vent (m/s)'})\n",
    "\n",
    "df['datetime'] = pd.to_datetime(df['AAAAMMJJHH'].astype(str), format='%Y%m%d%H')\n",
    "\n",
    "df = df.drop('AAAAMMJJHH', axis=1)\n",
    "\n",
    "df.to_csv('../dataset/meteo.csv', sep=';')"
   ]
  },
  {
   "cell_type": "markdown",
   "id": "4adbda39",
   "metadata": {},
   "source": [
    "<h2>Remplissage des données manquantes</h2>\n",
    "\n",
    "Nous remplissons les données manquantes en effectuant une interpolation linéaire grace aux dernières données connues."
   ]
  },
  {
   "cell_type": "code",
   "execution_count": 7,
   "id": "d2029ecc",
   "metadata": {},
   "outputs": [
    {
     "name": "stdout",
     "output_type": "stream",
     "text": [
      "Le dataset comporte 16036 lignes\n",
      "<class 'pandas.core.frame.DataFrame'>\n",
      "RangeIndex: 16036 entries, 0 to 16035\n",
      "Data columns (total 5 columns):\n",
      " #   Column                    Non-Null Count  Dtype         \n",
      "---  ------                    --------------  -----         \n",
      " 0   NOM_USUEL                 16036 non-null  object        \n",
      " 1   precipitations heure      16035 non-null  float64       \n",
      " 2   duree prec (en min)       15935 non-null  float64       \n",
      " 3   force moyenne vent (m/s)  16033 non-null  float64       \n",
      " 4   datetime                  16036 non-null  datetime64[ns]\n",
      "dtypes: datetime64[ns](1), float64(3), object(1)\n",
      "memory usage: 626.5+ KB\n"
     ]
    }
   ],
   "source": [
    "print(\"Le dataset comporte \" + str(df.shape[0]) + \" lignes\")\n",
    "df.info()"
   ]
  },
  {
   "cell_type": "markdown",
   "id": "d97b28e5",
   "metadata": {},
   "source": [
    "Les données sont quasiment toutes présentes, ce qui valide la décision de faire une interpolation linéaire."
   ]
  },
  {
   "cell_type": "code",
   "execution_count": 13,
   "id": "83f3656c",
   "metadata": {},
   "outputs": [
    {
     "name": "stdout",
     "output_type": "stream",
     "text": [
      "<class 'pandas.core.frame.DataFrame'>\n",
      "RangeIndex: 16036 entries, 0 to 16035\n",
      "Data columns (total 5 columns):\n",
      " #   Column                    Non-Null Count  Dtype         \n",
      "---  ------                    --------------  -----         \n",
      " 0   NOM_USUEL                 16036 non-null  object        \n",
      " 1   precipitations heure      16036 non-null  float64       \n",
      " 2   duree prec (en min)       16036 non-null  float64       \n",
      " 3   force moyenne vent (m/s)  16036 non-null  float64       \n",
      " 4   datetime                  16036 non-null  datetime64[ns]\n",
      "dtypes: datetime64[ns](1), float64(3), object(1)\n",
      "memory usage: 626.5+ KB\n"
     ]
    },
    {
     "name": "stderr",
     "output_type": "stream",
     "text": [
      "/var/folders/qc/5qn44xzs143g6s6sy04v51qm0000gn/T/ipykernel_11552/1337560941.py:4: FutureWarning: Series.interpolate with object dtype is deprecated and will raise in a future version. Call obj.infer_objects(copy=False) before interpolating instead.\n",
      "  df[col] = df[col].interpolate(method='linear')\n"
     ]
    }
   ],
   "source": [
    "colonnes = df.columns.to_list()\n",
    "\n",
    "for col in colonnes :\n",
    "    df[col] = df[col].interpolate(method='linear')\n",
    "\n",
    "df.info()\n"
   ]
  }
 ],
 "metadata": {
  "kernelspec": {
   "display_name": "Python 3",
   "language": "python",
   "name": "python3"
  },
  "language_info": {
   "codemirror_mode": {
    "name": "ipython",
    "version": 3
   },
   "file_extension": ".py",
   "mimetype": "text/x-python",
   "name": "python",
   "nbconvert_exporter": "python",
   "pygments_lexer": "ipython3",
   "version": "3.10.11"
  }
 },
 "nbformat": 4,
 "nbformat_minor": 5
}
